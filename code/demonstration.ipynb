{
 "cells": [
  {
   "cell_type": "markdown",
   "metadata": {},
   "source": [
    "# Демонстрация работы модуля reels_clf"
   ]
  },
  {
   "cell_type": "code",
   "execution_count": 4,
   "metadata": {},
   "outputs": [],
   "source": [
    "# Импорт модуля\n",
    "from reels_clf import reels_clf"
   ]
  },
  {
   "cell_type": "code",
   "execution_count": 5,
   "metadata": {},
   "outputs": [],
   "source": [
    "# Список ID роликов: \"Мини-мишки\", \"Чебурашка\", ошибочный ID, \"Барбоскины\", \"Введение в нейронные сети\"\n",
    "id_list = ['wZc2qbMDCOU', 'MxKWmPma3dg', '1---------0', 'neWzz9B0flg', '3F7rydcAa0w']"
   ]
  },
  {
   "cell_type": "code",
   "execution_count": 6,
   "metadata": {},
   "outputs": [
    {
     "name": "stdout",
     "output_type": "stream",
     "text": [
      "Не удалось получить данные для ролика: id 1---------0\n"
     ]
    },
    {
     "name": "stderr",
     "output_type": "stream",
     "text": [
      "d:\\.DATASCIENCE\\projects\\souz_multfilm\\code\\reels_clf.py:44: FutureWarning: Downcasting object dtype arrays on .fillna, .ffill, .bfill is deprecated and will change in a future version. Call result.infer_objects(copy=False) instead. To opt-in to the future behavior, set `pd.set_option('future.no_silent_downcasting', True)`\n",
      "  X.fillna({'seconds': 0}, inplace=True)\n"
     ]
    },
    {
     "data": {
      "text/plain": [
       "{'wZc2qbMDCOU': 'Мини-мишки',\n",
       " 'MxKWmPma3dg': 'Чебурашка',\n",
       " '1---------0': 'wrong id',\n",
       " 'neWzz9B0flg': 'Барбоскины',\n",
       " '3F7rydcAa0w': 'none'}"
      ]
     },
     "execution_count": 6,
     "metadata": {},
     "output_type": "execute_result"
    }
   ],
   "source": [
    "# Вызываем функцию reels_clf. В данном примере api key был изменен.\n",
    "result = reels_clf('AIzaSyCof87lFL4I_VvsQ0W3PsJop6bPfm****', id_list)\n",
    "result"
   ]
  },
  {
   "cell_type": "markdown",
   "metadata": {},
   "source": [
    "Возвращаемые значения соответствуют смоделированной ситуации"
   ]
  },
  {
   "cell_type": "markdown",
   "metadata": {},
   "source": []
  }
 ],
 "metadata": {
  "kernelspec": {
   "display_name": "souz_mult_venv",
   "language": "python",
   "name": "python3"
  },
  "language_info": {
   "codemirror_mode": {
    "name": "ipython",
    "version": 3
   },
   "file_extension": ".py",
   "mimetype": "text/x-python",
   "name": "python",
   "nbconvert_exporter": "python",
   "pygments_lexer": "ipython3",
   "version": "3.12.5"
  }
 },
 "nbformat": 4,
 "nbformat_minor": 2
}
