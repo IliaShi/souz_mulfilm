{
 "cells": [
  {
   "cell_type": "markdown",
   "metadata": {},
   "source": [
    "# Демонстрация работы модуля reels_clf"
   ]
  },
  {
   "cell_type": "code",
   "execution_count": 16,
   "metadata": {},
   "outputs": [],
   "source": [
    "# Импорт функции из модуля\n",
    "from reels_clf import reels_clf"
   ]
  },
  {
   "cell_type": "markdown",
   "metadata": {},
   "source": [
    "Зададим список ID для следующих ситуаций: \"Мини-мишки\", \"Чебурашка\", несуществующий ID, \"Барбоскины\", \"Винни-Пух\" (не отслеживается)"
   ]
  },
  {
   "cell_type": "code",
   "execution_count": 17,
   "metadata": {},
   "outputs": [],
   "source": [
    "# Список ID роликов\n",
    "id_list = ['wZc2qbMDCOU', 'MxKWmPma3dg', '1---------0', 'neWzz9B0flg', 'EMCtX6_-eQ8']"
   ]
  },
  {
   "cell_type": "code",
   "execution_count": 18,
   "metadata": {},
   "outputs": [
    {
     "name": "stdout",
     "output_type": "stream",
     "text": [
      "Не удалось получить данные для ролика с id: 1---------0\n",
      "Модель загружена из локального пути model/model.pkl\n"
     ]
    },
    {
     "data": {
      "text/plain": [
       "{'wZc2qbMDCOU': 'Мини-мишки',\n",
       " 'MxKWmPma3dg': 'Чебурашка',\n",
       " '1---------0': 'wrong id',\n",
       " 'neWzz9B0flg': 'Барбоскины',\n",
       " 'EMCtX6_-eQ8': 'none'}"
      ]
     },
     "execution_count": 18,
     "metadata": {},
     "output_type": "execute_result"
    }
   ],
   "source": [
    "# Вызываем функцию reels_clf. В данном примере api key был изменен.\n",
    "result = reels_clf('AIzaSyCof87lFL4I_VvsQ0W3PsJop6bPf****', id_list)\n",
    "result"
   ]
  },
  {
   "cell_type": "markdown",
   "metadata": {},
   "source": [
    "Таким образом, возвращаемые функцией значения соответствуют смоделированной ситуации."
   ]
  },
  {
   "cell_type": "markdown",
   "metadata": {},
   "source": []
  }
 ],
 "metadata": {
  "kernelspec": {
   "display_name": "sm_venv",
   "language": "python",
   "name": "python3"
  },
  "language_info": {
   "codemirror_mode": {
    "name": "ipython",
    "version": 3
   },
   "file_extension": ".py",
   "mimetype": "text/x-python",
   "name": "python",
   "nbconvert_exporter": "python",
   "pygments_lexer": "ipython3",
   "version": "3.12.5"
  }
 },
 "nbformat": 4,
 "nbformat_minor": 2
}
